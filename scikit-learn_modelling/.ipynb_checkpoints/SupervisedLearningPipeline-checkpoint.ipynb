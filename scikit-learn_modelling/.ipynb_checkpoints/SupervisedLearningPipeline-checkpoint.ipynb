{
 "cells": [
  {
   "cell_type": "code",
   "execution_count": 3,
   "metadata": {
    "collapsed": true
   },
   "outputs": [],
   "source": [
    "import pandas as pd\n",
    "import numpy as np\n",
    "from sklearn.pipeline import Pipeline\n",
    "from sklearn.model_selection import GridSearchCV\n",
    "from sklearn.linear_model import LogisticRegression\n",
    "from sklearn.model_selection import train_test_split\n",
    "from sklearn.metrics import confusion_matrix\n",
    "from sklearn.ensemble import RandomForestClassifier\n",
    "from sklearn.ensemble import AdaBoostClassifier\n",
    "from sklearn.metrics import auc\n",
    "import time\n",
    "from xgboost import XGBClassifier\n",
    "from imblearn.over_sampling import SMOTE\n",
    "\n",
    "import matplotlib.pyplot as plt\n",
    "%matplotlib inline"
   ]
  },
  {
   "cell_type": "code",
   "execution_count": 4,
   "metadata": {},
   "outputs": [
    {
     "data": {
      "text/plain": [
       "(1850, 101)"
      ]
     },
     "execution_count": 4,
     "metadata": {},
     "output_type": "execute_result"
    }
   ],
   "source": [
    "## Reading in the data\n",
    "data = pd.read_csv('political_demographics.csv')\n",
    "data_go = pd.get_dummies(data.loc[:,'General_2016-11-08':'GetOut'])\n",
    "data_preference = pd.get_dummies(pd.concat([data.loc[:,'General_2016-11-08':'Parties_Description'],\n",
    "                                         data.loc[:,'preference']],axis= 1))\n",
    "#data_go.shape\n",
    "data_preference.shape"
   ]
  },
  {
   "cell_type": "code",
   "execution_count": 3,
   "metadata": {
    "collapsed": true
   },
   "outputs": [],
   "source": [
    "## Creating training and test data for turnout and preference\n",
    "\n",
    "features = data.loc[:,'Voters_Age':'Parties_Description_Republican']\n",
    "\n",
    "## Voter Turnout (GetOut)\n",
    "X_go = features.values\n",
    "y_go = data['GetOut_Y'].values\n",
    "## Splitting data into 90 - 10 split for taining and testing\n",
    "X_train_go, X_test_go, y_train_go, y_test_go = train_test_split(X_go,y_go, test_size = 0.1, random_state = 12)\n",
    "\n",
    "## Voter Preference (preference)\n",
    "X_pre = features.values\n",
    "y_pre = data['preference_Y'].values\n",
    "X_train_pre, X_test_pre, y_train_pre, y_test_pre = train_test_split(X_pre,y_pre, test_size = 0.1, random_state = 12)"
   ]
  },
  {
   "cell_type": "code",
   "execution_count": 5,
   "metadata": {
    "collapsed": true
   },
   "outputs": [],
   "source": [
    "## Pipeline of 4 models with varying parameters. Logistic Regression, Random Forest, XGBoost, and Adaptive Boosting\n",
    "pipe = Pipeline([('classifier', LogisticRegression())])\n",
    "pipeline_grid = [\n",
    "    {'classifier': [LogisticRegression()],\n",
    "    'classifier__C' : [0.001,0.01,0.1,1,10,100]},\n",
    "    {'classifier': [RandomForestClassifier()],\n",
    "    'classifier__max_features'  : [4, 'sqrt', 'log2'],\n",
    "    'classifier__n_estimators' : [500,1000, 1500, 2000]},\n",
    "    {'classifier': [XGBClassifier()],\n",
    "    'classifier__learning_rate' : [0.1,0.3, 0.05, 0.75],\n",
    "    'classifier__n_estimators': [50, 100, 200, 300, 500],\n",
    "    'classifier__max_depth': [3,5]},\n",
    "    {'classifier': [AdaBoostClassifier()],\n",
    "    'classifier__learning_rate' : [0.1,0.3, 0.05, 0.75],\n",
    "    'classifier__n_estimators': [50, 100, 200, 300, 500]}\n",
    "]"
   ]
  },
  {
   "cell_type": "markdown",
   "metadata": {},
   "source": [
    "# Voter Turnout Model"
   ]
  },
  {
   "cell_type": "code",
   "execution_count": 52,
   "metadata": {},
   "outputs": [
    {
     "name": "stdout",
     "output_type": "stream",
     "text": [
      "380.03441309928894\n"
     ]
    },
    {
     "data": {
      "text/plain": [
       "0.27500000000000002"
      ]
     },
     "execution_count": 52,
     "metadata": {},
     "output_type": "execute_result"
    }
   ],
   "source": [
    "## Turnout Model, using the model with the highest recall as the best model\n",
    "start = time.time()\n",
    "## Using as many cores as possible for faster training\n",
    "grid = GridSearchCV(pipe, pipeline_grid, cv = 10, n_jobs=-1,scoring= 'recall')\n",
    "grid.fit(X_train_go, y_train_go)\n",
    "print(time.time() - start)\n",
    "grid.score(X_test_go, y_test_go)"
   ]
  },
  {
   "cell_type": "code",
   "execution_count": 54,
   "metadata": {},
   "outputs": [
    {
     "name": "stdout",
     "output_type": "stream",
     "text": [
      "Best params:\n",
      "{'classifier': XGBClassifier(base_score=0.5, colsample_bylevel=1, colsample_bytree=1,\n",
      "       gamma=0, learning_rate=0.75, max_delta_step=0, max_depth=5,\n",
      "       min_child_weight=1, missing=nan, n_estimators=200, nthread=-1,\n",
      "       objective='binary:logistic', reg_alpha=0, reg_lambda=1,\n",
      "       scale_pos_weight=1, seed=0, silent=True, subsample=1), 'classifier__learning_rate': 0.75, 'classifier__max_depth': 5, 'classifier__n_estimators': 200}\n",
      "\n"
     ]
    }
   ],
   "source": [
    "## Best model outputted with paramters\n",
    "print(\"Best params:\\n{}\\n\".format(grid.best_params_))"
   ]
  },
  {
   "cell_type": "code",
   "execution_count": 55,
   "metadata": {},
   "outputs": [
    {
     "data": {
      "text/plain": [
       "array([[118,  27],\n",
       "       [ 29,  11]])"
      ]
     },
     "execution_count": 55,
     "metadata": {},
     "output_type": "execute_result"
    }
   ],
   "source": [
    "## Confuion matrix\n",
    "predicted = grid.predict(X_test_go)\n",
    "confusion_matrix(y_test_go,predicted)"
   ]
  },
  {
   "cell_type": "markdown",
   "metadata": {},
   "source": [
    "# Preference Model"
   ]
  },
  {
   "cell_type": "code",
   "execution_count": 59,
   "metadata": {},
   "outputs": [
    {
     "name": "stdout",
     "output_type": "stream",
     "text": [
      "409.4400050640106\n"
     ]
    },
    {
     "data": {
      "text/plain": [
       "0.55524278676988037"
      ]
     },
     "execution_count": 59,
     "metadata": {},
     "output_type": "execute_result"
    }
   ],
   "source": [
    "### Preference Model\n",
    "start = time.time()\n",
    "grid = GridSearchCV(pipe, pipeline_grid, cv = 10, n_jobs=3,scoring= 'roc_auc')\n",
    "grid.fit(X_train_pre, y_train_pre)\n",
    "print(time.time()-start)\n",
    "grid.score(X_test_pre, y_test_pre)"
   ]
  },
  {
   "cell_type": "code",
   "execution_count": 60,
   "metadata": {},
   "outputs": [
    {
     "name": "stdout",
     "output_type": "stream",
     "text": [
      "Best params:\n",
      "{'classifier': RandomForestClassifier(bootstrap=True, class_weight=None, criterion='gini',\n",
      "            max_depth=None, max_features=4, max_leaf_nodes=None,\n",
      "            min_impurity_split=1e-07, min_samples_leaf=1,\n",
      "            min_samples_split=2, min_weight_fraction_leaf=0.0,\n",
      "            n_estimators=500, n_jobs=1, oob_score=False, random_state=None,\n",
      "            verbose=0, warm_start=False), 'classifier__max_features': 4, 'classifier__n_estimators': 500}\n",
      "\n"
     ]
    }
   ],
   "source": [
    "## Best model outputted with paramters\n",
    "print(\"Best params:\\n{}\\n\".format(grid.best_params_))"
   ]
  },
  {
   "cell_type": "code",
   "execution_count": 61,
   "metadata": {},
   "outputs": [
    {
     "data": {
      "text/plain": [
       "array([[39, 48],\n",
       "       [38, 60]])"
      ]
     },
     "execution_count": 61,
     "metadata": {},
     "output_type": "execute_result"
    }
   ],
   "source": [
    "predicted = grid.predict(X_test_pre)\n",
    "confusion_matrix(y_test_pre,predicted)"
   ]
  },
  {
   "cell_type": "markdown",
   "metadata": {},
   "source": [
    "# SVM"
   ]
  },
  {
   "cell_type": "code",
   "execution_count": 6,
   "metadata": {
    "collapsed": true
   },
   "outputs": [],
   "source": [
    "## Trying out Support Vector Machines using the Radial Basis Function\n",
    "from sklearn.svm import SVC\n",
    "svm = data.loc[:,'General_2016-11-08_N':]\n",
    "\n",
    "features_svm = svm_go.loc[:,'General_2016-11-08_N':'Parties_Description_Republican']\n",
    "\n",
    "X_svm_go = features_svm_go.values\n",
    "y_svm_go = svm_go['GetOut_Y'].values\n",
    "X_train_svm_go, X_test_svm_go, y_train_svm_go, y_test_svm_go = train_test_split(X_svm_go,y_svm_go, test_size = 0.1, random_state = 12)\n",
    "\n",
    "X_svm_pre = features_svm_pre.values\n",
    "y_svm_pre = svm_pre['preference_Y'].values\n",
    "X_train_svm_pre, X_test_svm_pre, y_train_svm_pre, y_test_svm_pre = train_test_split(X_svm_pre,y_svm_pre, test_size = 0.1, random_state = 12)"
   ]
  },
  {
   "cell_type": "code",
   "execution_count": 9,
   "metadata": {},
   "outputs": [
    {
     "name": "stdout",
     "output_type": "stream",
     "text": [
      "33.08904790878296\n"
     ]
    },
    {
     "data": {
      "text/plain": [
       "0.1206896551724138"
      ]
     },
     "execution_count": 9,
     "metadata": {},
     "output_type": "execute_result"
    }
   ],
   "source": [
    "## SVM parameter grid\n",
    "## Voter turnout model\n",
    "param_grid_svm = {'C' : [0.001,0.01,0.1,1,100],\n",
    "             'gamma': [0.001,0.01,0.1,10,100]}\n",
    "\n",
    "grid_search_svm = GridSearchCV(SVC(), param_grid_svm, cv = 10, n_jobs=3, scoring = 'recall')\n",
    "\n",
    "start = time.time()\n",
    "grid_search_svm.fit(X_train_svm_go, y_train_svm_go)\n",
    "print(time.time() - start)\n",
    "grid_search_svm.score(X_test_svm_go, y_test_svm_go)"
   ]
  },
  {
   "cell_type": "code",
   "execution_count": 10,
   "metadata": {},
   "outputs": [
    {
     "name": "stdout",
     "output_type": "stream",
     "text": [
      "Best params:\n",
      "{'C': 100, 'gamma': 0.01}\n",
      "\n"
     ]
    }
   ],
   "source": [
    "print(\"Best params:\\n{}\\n\".format(grid_search_svm.best_params_))"
   ]
  },
  {
   "cell_type": "code",
   "execution_count": 11,
   "metadata": {},
   "outputs": [
    {
     "data": {
      "text/plain": [
       "array([[301,  46],\n",
       "       [102,  14]])"
      ]
     },
     "execution_count": 11,
     "metadata": {},
     "output_type": "execute_result"
    }
   ],
   "source": [
    "predicted = grid_search_svm.predict(X_test_svm_go)\n",
    "confusion_matrix(y_test_svm_go,predicted)"
   ]
  },
  {
   "cell_type": "code",
   "execution_count": 43,
   "metadata": {},
   "outputs": [
    {
     "name": "stdout",
     "output_type": "stream",
     "text": [
      "40.434685468673706\n"
     ]
    },
    {
     "data": {
      "text/plain": [
       "0.51626031507876968"
      ]
     },
     "execution_count": 43,
     "metadata": {},
     "output_type": "execute_result"
    }
   ],
   "source": [
    "## Preference Model\n",
    "\n",
    "param_grid_svm = {'C' : [0.001,0.01,0.1,1,100],\n",
    "             'gamma': [0.001,0.01,0.1,10,100]}\n",
    "\n",
    "grid_search_svm = GridSearchCV(SVC(), param_grid_svm, cv = 10, n_jobs=3, scoring = 'roc_auc')\n",
    "\n",
    "start = time.time()\n",
    "grid_search_svm.fit(X_train_svm_pre, y_train_svm_pre)\n",
    "print(time.time() - start)\n",
    "grid_search_svm.score(X_test_svm_pre, y_test_svm_pre)"
   ]
  },
  {
   "cell_type": "code",
   "execution_count": 44,
   "metadata": {},
   "outputs": [
    {
     "name": "stdout",
     "output_type": "stream",
     "text": [
      "Best params:\n",
      "{'C': 1, 'gamma': 0.1}\n",
      "\n"
     ]
    }
   ],
   "source": [
    "print(\"Best params:\\n{}\\n\".format(grid_search_svm.best_params_))"
   ]
  },
  {
   "cell_type": "code",
   "execution_count": 45,
   "metadata": {},
   "outputs": [
    {
     "data": {
      "text/plain": [
       "array([[ 75, 140],\n",
       "       [ 86, 162]])"
      ]
     },
     "execution_count": 45,
     "metadata": {},
     "output_type": "execute_result"
    }
   ],
   "source": [
    "predicted = grid_search_svm.predict(X_test_svm_pre)\n",
    "confusion_matrix(y_test_svm_pre,predicted)"
   ]
  },
  {
   "cell_type": "markdown",
   "metadata": {},
   "source": [
    "# Running same pipeline grid searches for turnout model with a resampled dataset using SMOTE"
   ]
  },
  {
   "cell_type": "code",
   "execution_count": 41,
   "metadata": {
    "collapsed": true
   },
   "outputs": [],
   "source": [
    "#### Employing SMOTE on the training set\n",
    "sm = SMOTE(random_state=12, ratio = 1.0)\n",
    "x_train_res, y_train_res = sm.fit_sample(X_train_go, y_train_go)\n",
    "x_train_res = np.round(x_train_res)"
   ]
  },
  {
   "cell_type": "code",
   "execution_count": 42,
   "metadata": {},
   "outputs": [
    {
     "name": "stdout",
     "output_type": "stream",
     "text": [
      "514.4253783226013\n"
     ]
    },
    {
     "data": {
      "text/plain": [
       "0.64353448275862069"
      ]
     },
     "execution_count": 42,
     "metadata": {},
     "output_type": "execute_result"
    }
   ],
   "source": [
    "start = time.time()\n",
    "grid_res = GridSearchCV(pipe, pipeline_grid, cv = 10, n_jobs=3,scoring= 'recall')\n",
    "grid_res.fit(x_train_res, y_train_res)\n",
    "print(time.time()-start)\n",
    "grid_res.score(X_test_go, y_test_go)"
   ]
  },
  {
   "cell_type": "code",
   "execution_count": 43,
   "metadata": {},
   "outputs": [
    {
     "name": "stdout",
     "output_type": "stream",
     "text": [
      "Best params:\n",
      "{'classifier': RandomForestClassifier(bootstrap=True, class_weight=None, criterion='gini',\n",
      "            max_depth=None, max_features=4, max_leaf_nodes=None,\n",
      "            min_impurity_split=1e-07, min_samples_leaf=1,\n",
      "            min_samples_split=2, min_weight_fraction_leaf=0.0,\n",
      "            n_estimators=500, n_jobs=1, oob_score=False, random_state=None,\n",
      "            verbose=0, warm_start=False), 'classifier__max_features': 4, 'classifier__n_estimators': 500}\n",
      "\n"
     ]
    }
   ],
   "source": [
    "## Printing the best model with it's paramters\n",
    "print(\"Best params:\\n{}\\n\".format(grid_res.best_params_))"
   ]
  },
  {
   "cell_type": "code",
   "execution_count": 44,
   "metadata": {},
   "outputs": [
    {
     "data": {
      "text/plain": [
       "array([[129,  16],\n",
       "       [ 33,   7]])"
      ]
     },
     "execution_count": 44,
     "metadata": {},
     "output_type": "execute_result"
    }
   ],
   "source": [
    "predicted = grid_res.predict(X_test_go)\n",
    "confusion_matrix(y_test_go,predicted)"
   ]
  },
  {
   "cell_type": "code",
   "execution_count": null,
   "metadata": {
    "collapsed": true
   },
   "outputs": [],
   "source": [
    "#### Employing SMOTE on SVM model\n",
    "sm = SMOTE(random_state=12, ratio = 1.0)\n",
    "X_train_svm_go_res, y_train_svm_go_res = sm.fit_sample(X_train_svm_go, y_train_svm_go)\n",
    "X_train_svm_go_res = np.round(X_train_svm_go_res)"
   ]
  },
  {
   "cell_type": "code",
   "execution_count": null,
   "metadata": {
    "collapsed": true
   },
   "outputs": [],
   "source": [
    "grid_search_svm = GridSearchCV(SVC(), param_grid_svm, cv = 10, n_jobs=3, scoring = 'recall')\n",
    "\n",
    "start = time.time()\n",
    "grid_search_svm.fit(X_train_svm_go_res, y_train_svm_go_res)\n",
    "print(time.time() - start)\n",
    "grid_search_svm.score(X_test_svm_go, y_test_svm_go)"
   ]
  }
 ],
 "metadata": {
  "kernelspec": {
   "display_name": "Python 3",
   "language": "python",
   "name": "python3"
  },
  "language_info": {
   "codemirror_mode": {
    "name": "ipython",
    "version": 3
   },
   "file_extension": ".py",
   "mimetype": "text/x-python",
   "name": "python",
   "nbconvert_exporter": "python",
   "pygments_lexer": "ipython3",
   "version": "3.6.0"
  }
 },
 "nbformat": 4,
 "nbformat_minor": 2
}
